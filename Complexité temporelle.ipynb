{
 "cells": [
  {
   "cell_type": "code",
   "execution_count": 3,
   "id": "4995d27f",
   "metadata": {},
   "outputs": [
    {
     "name": "stdout",
     "output_type": "stream",
     "text": [
      "number of ids4\n",
      "LA58999\n",
      "B45687\n",
      "CH4569\n",
      "BN58966\n",
      "number of Details7\n",
      "CV45365468,Mohamed,Jilali,Tanger\n",
      "B45687,Fatima,AGDI,Agadir\n",
      "HJ5966,Moha,GHILO,Marrakech\n",
      "BN58966,Khadija,FILALI,Larache\n",
      "LA58999,Dolmi,FOUAD,TanTan\n",
      "HJ789985,Hanae,KADIRI,Dakhla\n",
      "CH4569,Oualid,IGIT,Nador\n",
      "LA58999,Dolmi,FOUAD,TanTan\n",
      "B45687,Fatima,AGDI,Agadir\n",
      "CH4569,Oualid,IGIT,Nador\n",
      "BN58966,Khadija,FILALI,Larache\n"
     ]
    }
   ],
   "source": [
    "#Methode 1\n",
    "#affiche selon l'ordre du contenu du fichier Ids.in, tous le détails \n",
    "#qui correspond dans le fichier Details.in\n",
    "n = int(input(\"number of ids\"))\n",
    "Ids=[]\n",
    "Results=[]\n",
    "Details=[]\n",
    "for i in range(n):\n",
    "    Ids.append(input())\n",
    "m = int(input(\"number of Details\"))    \n",
    "for j in range(m):\n",
    "    Details.append(input())\n",
    "for k in range(n):\n",
    "    for l in range(m):\n",
    "        if Ids[k]==Details[l].split(',')[0]:\n",
    "            Results.append(Details[l])\n",
    "            break\n",
    "for result in Results:\n",
    "    print(result)\n",
    "#La complexité temporelle de cet algorithme est n*m    "
   ]
  },
  {
   "cell_type": "code",
   "execution_count": 4,
   "id": "234068fa",
   "metadata": {},
   "outputs": [
    {
     "name": "stdout",
     "output_type": "stream",
     "text": [
      "number of ids4\n",
      "LA58999\n",
      "B45687\n",
      "CH4569\n",
      "BN58966\n",
      "number of Details7\n",
      "CV45365468,Mohamed,Jilali,Tanger\n",
      "B45687,Fatima,AGDI,Agadir\n",
      "HJ5966,Moha,GHILO,Marrakech\n",
      "BN58966,Khadija,FILALI,Larache\n",
      "LA58999,Dolmi,FOUAD,TanTan\n",
      "HJ789985,Hanae,KADIRI,Dakhla\n",
      "CH4569,Oualid,IGIT,Nador\n",
      "B45687,Fatima,AGDI,Agadir\n",
      "BN58966,Khadija,FILALI,Larache\n",
      "LA58999,Dolmi,FOUAD,TanTan\n",
      "CH4569,Oualid,IGIT,Nador\n"
     ]
    }
   ],
   "source": [
    "#Methode 2\n",
    "n = int(input(\"number of ids\"))\n",
    "Ids=[]\n",
    "Results=[]\n",
    "for i in range(n):\n",
    "    Ids.append(input())\n",
    "m = int(input(\"number of Details\"))    \n",
    "for j in range(m):\n",
    "    string = input()\n",
    "    if string.split(',')[0] in Ids:\n",
    "        Results.append(string)\n",
    "for result in Results:\n",
    "    print(result)\n",
    "#La complexité temporelle de cet algorithme est n*m"
   ]
  }
 ],
 "metadata": {
  "kernelspec": {
   "display_name": "Python 3",
   "language": "python",
   "name": "python3"
  },
  "language_info": {
   "codemirror_mode": {
    "name": "ipython",
    "version": 3
   },
   "file_extension": ".py",
   "mimetype": "text/x-python",
   "name": "python",
   "nbconvert_exporter": "python",
   "pygments_lexer": "ipython3",
   "version": "3.8.8"
  }
 },
 "nbformat": 4,
 "nbformat_minor": 5
}
